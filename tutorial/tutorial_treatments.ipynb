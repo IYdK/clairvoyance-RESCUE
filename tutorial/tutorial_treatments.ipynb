{
 "cells": [
  {
   "cell_type": "markdown",
   "metadata": {},
   "source": [
    "<img src=\"figure/clairvoyance_logo.png\">\n",
    "\n",
    "# Clairvoyance: Treatment effects estimation\n",
    "\n",
    "## ML-AIM (http://vanderschaar-lab.com/)\n",
    "\n",
    "This notebook describes a user-guide for treatment effects estimation using the Clairvoyance framework. We consider the case of time-varying treatments where, given static and temporal features we want to estimate the effect of a single treatment or a sequence of treatments on the patient outcome. For instance, using the static data (demographic information), temporal data (vitals, lab tests) and treatments administered over time, we can estimate whether the patient will need the ventilator under different possible treatment plans. These counterfactual trajectories can then be used to decide which treatment plan will give the best patient outcome. \n",
    "\n",
    "- Rolling window counterfactual prediction:\n",
    "  - Example: Predict the effect of a sequence of treatments on the probability of the patient needing a ventilator. The projection horizon is equal to the length of the sequence of treatments for which we make the counterfactual predictions. \n",
    " \n",
    "<img src=\"figure/treatment-effects-definition.png\">\n",
    "\n",
    "To run this tutorial, you need:\n",
    "### Temporal and static datasets for training and testing\n",
    "\n",
    "If users come with their own temporal and static datasets for training and testing, the users should save those files as 'data_name_temporal_train_data_eav.csv.gz', 'data_name_static_train_data.csv.gz', 'data_name_temporal_test_data_eav.csv.gz', 'data_name_static_test_data.csv.gz' in '../datasets/data/data_name/' directory.\n",
    "\n",
    "Note: the temporal data should contain information about the treatments administered over time.\n",
    "\n",
    "### Assumptions needed for performing causal inference\n",
    "For the selected temoporal data, users should check the necesary assumptions for performing causal inference using the data, namely overlap (positivity) and no hidden confounders. Overlap means that at each timestep, each patient has non-zero probability of being assigned each treatment option, no hidden confounders involves considering all variables that are affecting the treatment assignment and patient outcome at each timestep. \n",
    "If these assumptions do not hold, they will obtain bias estimates of the treatment effects. \n",
    "\n",
    "\n",
    "### Prerequisite\n",
    "Clone https://github.com/jsyoon0823/time-series-automl.git to the current directory."
   ]
  },
  {
   "cell_type": "markdown",
   "metadata": {},
   "source": [
    "## Time-series prediction pipeline summary\n",
    "\n",
    "<img src=\"figure/treatment-effects-block-diagram.png\">\n",
    "\n",
    "### Step 1: Load dataset\n",
    "  - Extract csv files from the original raw datasets in ../datasets/data/data_name/ directory.  \n",
    "  \n",
    "### Step 2: Preprocess dataset\n",
    "  - Preprocessing the raw data using various filters such as (1) replacing negative values to NaN, (2) do one-hot encidng for certain features, (3) do normalization.  \n",
    "  \n",
    "### Step 3: Define problem\n",
    "  - Set the time-series prediction problem that we want to solve. For treatment effects, we only consider the 'online' prediction problem as we are interested in estimating counterfactual outcomes at different timesteps throughtout the patient trajectory. In addition, set the label, set the maximum sequence length, and set the features in the temporal dataset that should be considered as treatments. We also define the metric for evaluation and the task itself (whether classification or regression).\n",
    "\n",
    "### Step 4: Impute dataset\n",
    "  - Impute missing values in the preprocessed static and temporal datasets and return complete datasets.\n",
    "  \n",
    "### Step 5: Feature selection\n",
    "  - Select the relevant static and temporal features to the labels. You can skip the feature selection (set feature selection method = None). For causal infernece, if feature selection is performed, one needs to ensure that the remaining features still satisfy the required identifiability assumptions. \n",
    "  \n",
    "### Step 6: Treatment effects model fit and predict\n",
    "  - After finishing the data preparation, we define the treatment effects models and train the model using the training dataset. The models capable of estimating counterfactual outcomes for a sequence of treatments into the future will have the option for selecting the projection horizon. After training, we use the trained model to estimating treatment effects on the testing dataset.\n",
    "  \n",
    "### Step 7: Visualize results\n",
    "  - Visualize the various results such as performance, factual and counterfactual predictions and uncertainties."
   ]
  },
  {
   "cell_type": "markdown",
   "metadata": {},
   "source": [
    "## Step 0: Import necessary packages\n",
    "\n",
    "Import necessary packages for the entire tutorials."
   ]
  },
  {
   "cell_type": "code",
   "execution_count": 1,
   "metadata": {},
   "outputs": [],
   "source": [
    "# Necessary packages\n",
    "from __future__ import absolute_import\n",
    "from __future__ import division\n",
    "from __future__ import print_function\n",
    "\n",
    "import numpy as np\n",
    "import warnings\n",
    "warnings.filterwarnings('ignore')\n",
    "\n",
    "import sys, os\n",
    "sys.path.append(os.path.realpath('..'))\n",
    "# sys.path.append('/Users/ioanabica/PycharmProjects/time-series-automl/')\n",
    "\n",
    "from utils import PipelineComposer\n",
    "\n",
    "import logging\n",
    "logger = logging.getLogger()\n",
    "logger.setLevel(logging.INFO)\n",
    "\n",
    "# import os\n",
    "# os.environ[\"CUDA_VISIBLE_DEVICES\"]=\"0\""
   ]
  },
  {
   "cell_type": "markdown",
   "metadata": {},
   "source": [
    "## Step 1: Load dataset\n",
    "\n",
    "Extract temporal and static datasets from 'data_name_temporal_train_data_eav.csv.gz', 'data_name_static_train_data.csv.gz', 'data_name_temporal_test_data_eav.csv.gz', 'data_name_static_test_data.csv.gz' in '../datasets/data/data_name/' directory.\n",
    "\n",
    "- CSVLoader: Load csv files from the original raw datasets in ../datasets/data/data_name/ directory.\n",
    "- file_names: mimic in this tutorial."
   ]
  },
  {
   "cell_type": "code",
   "execution_count": 2,
   "metadata": {},
   "outputs": [
    {
     "name": "stdout",
     "output_type": "stream",
     "text": [
      "Finish data loading.\n"
     ]
    }
   ],
   "source": [
    "from datasets import CSVLoader\n",
    "\n",
    "# Define data name\n",
    "data_name = 'mimic_antibiotics'\n",
    "# Define data dictionary\n",
    "data_directory = '../datasets/data/'+data_name + '/' + data_name + '_'\n",
    "\n",
    "# Load train and test datasets\n",
    "data_loader_training = CSVLoader(static_file=data_directory + 'static_train_data.csv.gz',\n",
    "                                 temporal_file=data_directory + 'temporal_train_data_eav.csv.gz')\n",
    "\n",
    "data_loader_testing = CSVLoader(static_file=data_directory + 'static_test_data.csv.gz',\n",
    "                                temporal_file=data_directory + 'temporal_test_data_eav.csv.gz')\n",
    "\n",
    "dataset_training = data_loader_training.load()\n",
    "dataset_testing = data_loader_testing.load()\n",
    "\n",
    "print('Finish data loading.')"
   ]
  },
  {
   "cell_type": "markdown",
   "metadata": {},
   "source": [
    "## Step 2: Preprocess dataset\n",
    "\n",
    "Preprocess the raw data using multiple filters. In this tutorial, we replace all the negative values to NaN (using NegativeFilter), do one-hot encoding on 'admission_type' feature (using OneHotEncoder), and do MinMax Normalization (using Normalization). Preprocessing is done for both training and testing datasets. \n",
    "  - NegativeFilter: Replace negative values to NaN\n",
    "  - OneHotEncoder: One hot encoding certain features\n",
    "    - one_hot_encoding: input features that need to be one-hot encoded\n",
    "  - Normalization (3 options): MinMax, Standard, None"
   ]
  },
  {
   "cell_type": "code",
   "execution_count": null,
   "metadata": {},
   "outputs": [],
   "source": [
    "from preprocessing import FilterNegative, OneHotEncoder, Normalizer\n",
    "\n",
    "# (1) filter out negative values\n",
    "negative_filter = FilterNegative()\n",
    "# (2) one-hot encode categorical features\n",
    "one_hot_encoding = 'admission_type'\n",
    "onehot_encoder = OneHotEncoder(one_hot_encoding_features=[one_hot_encoding])\n",
    "# (3) Normalize features: 3 options (minmax, standard, none)\n",
    "normalization = 'minmax'\n",
    "normalizer = Normalizer(normalization)\n",
    "\n",
    "# Data preprocessing\n",
    "filter_pipeline = PipelineComposer(negative_filter, onehot_encoder, normalizer)\n",
    "\n",
    "dataset_training = filter_pipeline.fit_transform(dataset_training)\n",
    "dataset_testing = filter_pipeline.transform(dataset_testing)\n",
    "\n",
    "print('Finish preprocessing.')"
   ]
  },
  {
   "cell_type": "markdown",
   "metadata": {},
   "source": [
    "## Step 3: Define problem   \n",
    "\n",
    "Set the treatment-effects causal inference problem that we want to solve. As explained at the beginning of the notebook, estimating treatment effects over time makes sense only in the 'online' problem setting.  In addition, set the label, set the maximum sequence length, and set the treatment features. We also define the metric for evaluation and the task itself (whether classification or regression). In this tutorial, we predict the effect of treatments on ventilator usage. \n",
    "  - problem: 'online'(rolling window prediction) \n",
    "    - 'online': preditcion at every time stamps of the time-series\n",
    "  - max_seq_len: maximum sequence length of time-series sequence\n",
    "  - label_name: the column name for the label(s)\n",
    "  - treatment: the column name for treatment (currently only binare treatment is supported)\n",
    "  - window: x-hour ahead prediction (difference between consecutive time steps).\n",
    "  \n",
    "  - other parameters:\n",
    "    - metric_name: auc, apr, mse, mae\n",
    "    - task: classification or regression"
   ]
  },
  {
   "cell_type": "code",
   "execution_count": 4,
   "metadata": {},
   "outputs": [
    {
     "name": "stderr",
     "output_type": "stream",
     "text": [
      "100%|██████████| 5429/5429 [00:18<00:00, 288.83it/s]\n",
      "100%|██████████| 5429/5429 [00:20<00:00, 271.44it/s]\n",
      "100%|██████████| 5429/5429 [00:22<00:00, 245.60it/s]\n",
      "100%|██████████| 5429/5429 [00:21<00:00, 257.21it/s]\n",
      "100%|██████████| 604/604 [00:03<00:00, 188.98it/s]\n",
      "100%|██████████| 604/604 [00:01<00:00, 358.32it/s]\n",
      "100%|██████████| 604/604 [00:02<00:00, 209.71it/s]\n",
      "100%|██████████| 604/604 [00:02<00:00, 251.16it/s]\n"
     ]
    },
    {
     "name": "stdout",
     "output_type": "stream",
     "text": [
      "Finish defining problem.\n"
     ]
    }
   ],
   "source": [
    "from preprocessing import ProblemMaker\n",
    "\n",
    "# Define parameters\n",
    "problem = 'online'\n",
    "max_seq_len = 20\n",
    "label_name = 'ventilator'\n",
    "treatment = ['antibiotics']\n",
    "window = 1\n",
    "\n",
    "# Define problem \n",
    "problem_maker = ProblemMaker(problem=problem, label=[label_name],\n",
    "                             max_seq_len=max_seq_len, treatment=treatment, window=window)\n",
    "\n",
    "dataset_training = problem_maker.fit_transform(dataset_training)\n",
    "dataset_testing = problem_maker.fit_transform(dataset_testing)\n",
    "\n",
    "# Set other parameters\n",
    "metric_name = 'auc'\n",
    "task = 'classification'\n",
    "\n",
    "metric_sets = [metric_name]\n",
    "metric_parameters =  {'problem': problem, 'label_name': [label_name]}\n",
    "\n",
    "print('Finish defining problem.')"
   ]
  },
  {
   "cell_type": "markdown",
   "metadata": {},
   "source": [
    "## Step 4: Impute dataset\n",
    "\n",
    "Impute missing values in the preprocessed static and temporal datasets and return complete datasets.\n",
    "  - Static imputation (6 options): mean, median, mice, missforest, knn, gain\n",
    "  - Temporal imputation (8 options): mean, median, linear, quadratic, cubic, spline, mrnn, tgain"
   ]
  },
  {
   "cell_type": "code",
   "execution_count": 5,
   "metadata": {},
   "outputs": [
    {
     "name": "stderr",
     "output_type": "stream",
     "text": [
      "Using TensorFlow backend.\n",
      "100%|██████████| 5429/5429 [00:46<00:00, 116.86it/s]\n",
      "100%|██████████| 604/604 [00:03<00:00, 156.79it/s]"
     ]
    },
    {
     "name": "stdout",
     "output_type": "stream",
     "text": [
      "Finish imputation.\n"
     ]
    },
    {
     "name": "stderr",
     "output_type": "stream",
     "text": [
      "\n"
     ]
    }
   ],
   "source": [
    "from imputation import Imputation\n",
    "\n",
    "# Set imputation models\n",
    "static_imputation_model = 'median'\n",
    "temporal_imputation_model = 'linear'\n",
    "\n",
    "# Impute the missing data\n",
    "static_imputation = Imputation(imputation_model_name = static_imputation_model, data_type = 'static')\n",
    "temporal_imputation = Imputation(imputation_model_name = temporal_imputation_model, data_type = 'temporal')\n",
    "\n",
    "imputation_pipeline = PipelineComposer(static_imputation, temporal_imputation)\n",
    "\n",
    "dataset_training = imputation_pipeline.fit_transform(dataset_training)\n",
    "dataset_testing = imputation_pipeline.transform(dataset_testing)\n",
    "\n",
    "print('Finish imputation.')"
   ]
  },
  {
   "cell_type": "markdown",
   "metadata": {},
   "source": [
    "## Step 5: Feature selection\n",
    "\n",
    "Select the relevant static and temporal features to the labels. If you do not want, we can skip the feature selection (set feature selection method = None).\n",
    "  - feature selection method: \n",
    "      - feature_selection_model: greedy-addition, greedy-deletion, recursive-addition, recursive-deletion, None\n",
    "      - feature_number: selected featuer number\n",
    "      \n",
    "After feature selection, the user needs to ensure that the assumptions needed for causal inference still hold. "
   ]
  },
  {
   "cell_type": "code",
   "execution_count": 6,
   "metadata": {},
   "outputs": [
    {
     "name": "stdout",
     "output_type": "stream",
     "text": [
      "Finish feature selection.\n"
     ]
    }
   ],
   "source": [
    "from feature_selection import FeatureSelection\n",
    "\n",
    "# Set feature selection parameters\n",
    "static_feature_selection_model = None\n",
    "temporal_feature_selection_model = None\n",
    "static_feature_selection_number = None\n",
    "temporal_feature_selection_number = None\n",
    "\n",
    "# Select relevant features\n",
    "static_feature_selection = \\\n",
    "FeatureSelection(feature_selection_model_name = static_feature_selection_model,\n",
    "                 feature_type = 'static', feature_number = static_feature_selection_number,\n",
    "                 task = task, metric_name = metric_name,\n",
    "                 metric_parameters = metric_parameters)\n",
    "\n",
    "temporal_feature_selection = \\\n",
    "FeatureSelection(feature_selection_model_name = temporal_feature_selection_model,\n",
    "                 feature_type = 'temporal', feature_number = temporal_feature_selection_number,\n",
    "                 task = task, metric_name = metric_name,\n",
    "                 metric_parameters = metric_parameters)\n",
    "\n",
    "feature_selection_pipeline = PipelineComposer(static_feature_selection, temporal_feature_selection)\n",
    "\n",
    "dataset_training = feature_selection_pipeline.fit_transform(dataset_training)\n",
    "dataset_testing = feature_selection_pipeline.transform(dataset_testing)\n",
    "\n",
    "print('Finish feature selection.')"
   ]
  },
  {
   "cell_type": "markdown",
   "metadata": {},
   "source": [
    "## Step 6: Treatment-effects model fit and predict\n",
    "\n",
    "After finishing the data preparation, we define the treatment effect models (3 options: Counterfactual Recurrent Network (CRN), Recurrent Marginal Structural Models (RMSNs) and GANITE). Note that GANITE is a treatments effect model for the static setting; the implementation of GANITE in this package processes the patient history by stacking the a number of previous timsteps specified by the user through stack_dim and can only be used for one-step ahead prediction of treatment effects. \n",
    "\n",
    "For CRN and RMSN, a projection_horizon can set when fitting the models for estimating counterfactual trajectories. The projection horizon is equal to the length of the sequence of treatments for which we make the counterfactual predictions.\n",
    "\n",
    "We then train the treatment effects model model using the training dataset. We set validation set as the 20% of the training set for early stopping and best model saving. \n",
    "\n",
    "After training, we use the trained model to:\n",
    "- predict the factual outcomes of the testing dataset.\n",
    "- estimate counterfactual trajectories for a sequence of future treatments. \n",
    "\n",
    "Each model has different types of hyperparameters that need to be set. \n",
    "\n",
    "- Hyperparameters needed for the Counterfactual Recurrent Network:\n",
    "  - hyperparameters for encoder:\n",
    "      - rnn_hidden_units: hidden dimensions in the LSTM unit\n",
    "      - rnn_keep_prob: keep probability used for variational dropout in the LSTM unit\n",
    "      - br_size: size of the balancing representation\n",
    "      - fc_hidden_units: hidden dimensions of the fully connected layers used for treatment classifier and predictor\n",
    "      - batch_size: number of samples in mini-batch\n",
    "      - num_epochs: number of epochs\n",
    "      - learning_rate: learning rate\n",
    "      - max_alpha: alpha controls the trade-off between building tratment invariant representations (domain discrimination) and being able to predict outcomes (outcome prediction); during training, CRN uses an exponentially increasing schedule for alpha from 0 to max_alpha\n",
    "  - hyperparameters for decoder:\n",
    "      - the decoder requires the same hyperparameters as the encoder with the exception of the rnn_hidden_units \n",
    "        which is set to be equal to the br_size of the encoder\n",
    "        \n",
    "        \n",
    "- Hyperparameters for Recurrent Marginal Structural Networks:\n",
    "    - hyperparameters for encoder:\n",
    "        - dropout_rate: dropout probability used for variational\n",
    "        - rnn_hidden_units: hidden dimensions in the LSTM unit\n",
    "        - batch_size: number of samples in mini-batch\n",
    "        - num_epochs: number of epochs\n",
    "        - learning_rate: learning rate\n",
    "        - max_norm: max gradient norm used for gradient clipping during training\n",
    "        \n",
    "    - hyperparameters for decoder:\n",
    "        - the decoder requires the same hyperparameters as the encoder. \n",
    "\n",
    "  \n",
    "- Hyperparameters for GANITE:\n",
    "  - batch size: number of samples in mini-batch\n",
    "  - alpha: parameter trading off between discriminator loss and supervised loss for the generator training\n",
    "  - learning_rate: learning rate\n",
    "  - hidden_units: hidden dimensions of the fully connected layers used in the networks\n",
    "  - stack_dim: number of timesteps to stack\n",
    "  \n",
    "  \n",
    "All models have the following common parameters:\n",
    "  - static_mode: how to utilize static features (concatenate or None)\n",
    "  - time_mode: how to utilize time information (concatenate or None)\n",
    "  - taks: 'classification' or 'regression'"
   ]
  },
  {
   "cell_type": "code",
   "execution_count": null,
   "metadata": {},
   "outputs": [],
   "source": [
    "from treatments.treatments import treatment_effects_model\n",
    "\n",
    "# Set the treatment effects model\n",
    "model_name = 'CRN'\n",
    "projection_horizon = 5\n",
    "\n",
    "# Set up validation for early stopping and best model saving\n",
    "dataset_training.train_val_test_split(prob_val=0.2, prob_test = 0.0)\n",
    "\n",
    "if model_name == 'CRN':\n",
    "    model_parameters={'encoder_rnn_hidden_units': 128,\n",
    "                      'encoder_br_size': 64,\n",
    "                      'encoder_fc_hidden_units':128,\n",
    "                      'encoder_learning_rate': 0.001,\n",
    "                      'encoder_batch_size': 256,\n",
    "                      'encoder_keep_prob': 0.9,\n",
    "                      'encoder_num_epochs': 100,\n",
    "                      'encoder_max_alpha': 1.0,\n",
    "                      'decoder_br_size': 64,\n",
    "                      'decoder_fc_hidden_units': 128,\n",
    "                      'decoder_learning_rate': 0.001,\n",
    "                      'decoder_batch_size': 512,\n",
    "                      'decoder_keep_prob': 0.9,\n",
    "                      'decoder_num_epochs': 100,\n",
    "                      'decoder_max_alpha': 1.0,\n",
    "                      'projection_horizon': 5,\n",
    "                      'static_mode': 'concatenate',\n",
    "                      'time_mode': 'concatenate'}\n",
    "    treatment_model = treatment_effects_model(model_name, model_parameters, task='classification')\n",
    "    treatment_model.fit(dataset_training)\n",
    "    \n",
    "elif model_name == 'RMSN':\n",
    "    hyperparams_encoder_iptw = {\n",
    "        'dropout_rate': 0.1,\n",
    "        'memory_multiplier': 4,\n",
    "        'num_epochs': 100,\n",
    "        'batch_size': 64,\n",
    "        'learning_rate': 0.01,\n",
    "        'max_norm': 0.5}\n",
    "\n",
    "    hyperparams_decoder_iptw = {\n",
    "        'dropout_rate': 0.1,\n",
    "        'memory_multiplier': 2,\n",
    "        'num_epochs': 100,\n",
    "        'batch_size': 512,\n",
    "        'learning_rate': 0.001,\n",
    "        'max_norm': 4.0}\n",
    "\n",
    "    model_parameters={'hyperparams_encoder_iptw': hyperparams_encoder_iptw, \n",
    "                      'hyperparams_decoder_iptw': hyperparams_decoder_iptw,\n",
    "                      'static_mode': 'concatenate',\n",
    "                      'time_mode': 'concatenate', \n",
    "                      'model_dir': 'tmp/', \n",
    "                      'model_name': 'rmsn_test'}\n",
    "    treatment_model = treatment_effects_model(model_name, model_parameters, task='classification')\n",
    "    treatment_model.fit(dataset_training, projection_horizon=projection_horizon)\n",
    "    \n",
    "elif model_name == 'GANITE':\n",
    "    hyperparams = {'batch_size': 256, \n",
    "                   'alpha': 1.0, \n",
    "                   'hidden_dims': 128, \n",
    "                   'learning_rate': 0.001, \n",
    "                   'stack_dim': 4}\n",
    "    \n",
    "    model_parameters={'hyperparams': hyperparams,\n",
    "                     'static_mode': 'concatenate',\n",
    "                     'time_mode': 'concatenate',}\n",
    "\n",
    "    #treatment_model = treatment_effects_model(model_name, model_parameters, task='classification')\n",
    "    treatment_model = GANITE_Model(hyperparams=hyperparams, task=task, static_mode='concatenate', time_mode='concatenate')\n",
    "    treatment_model.fit(dataset_training)\n",
    "\n",
    "# Return the factual predictions on the testing set\n",
    "test_y_hat = treatment_model.predict(dataset_testing)\n",
    "\n",
    "print('Finish treatment effects model training and testing.')"
   ]
  },
  {
   "cell_type": "code",
   "execution_count": null,
   "metadata": {},
   "outputs": [],
   "source": [
    "from evaluation import Metrics\n",
    "from evaluation import print_performance\n",
    "\n",
    "# Evaluate predictor model\n",
    "result = Metrics(metric_sets, metric_parameters).evaluate(dataset_testing.label, test_y_hat)\n",
    "print('Finish predictor model evaluation.')\n",
    "\n",
    "print('Overall performance')\n",
    "print_performance(result, metric_sets, metric_parameters)"
   ]
  },
  {
   "cell_type": "code",
   "execution_count": null,
   "metadata": {},
   "outputs": [],
   "source": [
    "np.mean(result['ventilator + auc'])"
   ]
  },
  {
   "cell_type": "markdown",
   "metadata": {},
   "source": [
    "## Step 7: Visualize counterfactual estimations\n",
    "\n",
    "(1) Visualize the estimated counterfactual trajectories for user defined treatment options."
   ]
  },
  {
   "cell_type": "code",
   "execution_count": 10,
   "metadata": {},
   "outputs": [
    {
     "data": {
      "image/png": "[encoded data removed]",
      "text/plain": [
       "<Figure size 576x288 with 1 Axes>"
      ]
     },
     "metadata": {
      "needs_background": "light"
     },
     "output_type": "display_data"
    }
   ],
   "source": [
    "from evaluation import print_counterfactual_predictions\n",
    "\n",
    "if model_name in ['CRN', 'RMSN']:\n",
    "  # Predict and visualize counterfactuals for the sequence of treatments indicated by the user through the treatment_options\n",
    "  treatment_options = np.array([[[1], [1], [1], [1], [1], [0]],\n",
    "                                  [[0], [0], [0], [0], [1], [1]]])\n",
    "  history, counterfactual_traj = treatment_model.predict_counterfactual_trajectories(dataset=dataset_testing,\n",
    "                                                                            patient_id=2, timestep=2,\n",
    "                                                                            treatment_options=treatment_options)\n",
    "\n",
    "  print_counterfactual_predictions(patient_history=history, treatment_options=treatment_options,\n",
    "                                   counterfactual_predictions=counterfactual_traj)"
   ]
  }
 ],
 "metadata": {
  "kernelspec": {
   "display_name": "Python 3",
   "language": "python",
   "name": "python3"
  },
  "language_info": {
   "codemirror_mode": {
    "name": "ipython",
    "version": 3
   },
   "file_extension": ".py",
   "mimetype": "text/x-python",
   "name": "python",
   "nbconvert_exporter": "python",
   "pygments_lexer": "ipython3",
   "version": "3.6.12"
  }
 },
 "nbformat": 4,
 "nbformat_minor": 4
}
